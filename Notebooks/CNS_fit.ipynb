{
 "cells": [
  {
   "cell_type": "code",
   "execution_count": 1,
   "id": "7ddda619-b7da-4eed-a1b1-e1cd2a7df350",
   "metadata": {},
   "outputs": [],
   "source": [
    "import numpy as np\n",
    "import pandas as pd\n",
    "import matplotlib.pyplot as plt\n",
    "import os\n",
    "from tqdm import trange\n",
    "import re\n",
    "from lmfit.models import GaussianModel, StepModel, Model\n",
    "from cn_tools.cns_fit import cns_pc_from_file\n",
    "from cn_tools.cns_fit import mu_from_gauss\n",
    "from cn_tools.cns_fit import sigma_from_cns\n",
    "from cn_tools.cns_fit import Z_from_cns\n",
    "from cn_tools.cns_fit import compute_local_contacts\n",
    "from cn_tools.cns_fit import compute_nearest_neighbours\n",
    "from cn_tools.cns_fit import compute_mean_sigma\n",
    "from cn_tools.cns_fit import approximate_diameter\n",
    "from cn_tools.data_processing import cut_df"
   ]
  },
  {
   "cell_type": "code",
   "execution_count": 2,
   "id": "1af5be4e-32b2-4db3-88b0-ab06884b76b2",
   "metadata": {},
   "outputs": [],
   "source": [
    "directories = ['../Data/preprocessed/VF_005_analysis/', '../Data/preprocessed/VF_006_analysis/',\n",
    "               '../Data/preprocessed/VF_007_analysis/', '../Data/preprocessed/VF_008_analysis/']"
   ]
  },
  {
   "cell_type": "code",
   "execution_count": 3,
   "id": "89a3b7a5-ecd6-442f-ba22-25f6a4966d30",
   "metadata": {},
   "outputs": [],
   "source": [
    "def compute_sigmas(directory):\n",
    "    '''Iterates through a raw directory and saves all processed csv files in another directory called preprocessed'''\n",
    "    \n",
    "    #define save directory\n",
    "    save_file = '../Data/preprocessed/sigma.csv'\n",
    "    df_sigma = pd.read_csv(save_file, index_col=0)\n",
    "        \n",
    "    #create list of all minkowski file folders to evaluate\n",
    "    files = [directory + file for file in os.listdir(directory) if 'tomo' in file]\n",
    "    \n",
    "    #for folder in folders:\n",
    "    for i in trange(len(files)):\n",
    "        \n",
    "        file_name = files[i]\n",
    "        #index has the form 'XXX_YYY'\n",
    "        index = file_name[-11:-4]\n",
    "        interval, cns, pc = cns_pc_from_file(file_name)\n",
    "        mu = mu_from_gauss(interval, pc)\n",
    "        sigma = sigma_from_cns(interval, cns, mu)\n",
    "        df_sigma.loc[index, 'sigma'] = sigma\n",
    "        \n",
    "    df_sigma.to_csv(save_file)"
   ]
  },
  {
   "cell_type": "code",
   "execution_count": 4,
   "id": "b50148db-ef20-49ee-8eea-2ff5568102b8",
   "metadata": {},
   "outputs": [],
   "source": [
    "def contacts_and_neighbours(directory):\n",
    "    #final directoryreturn_length\n",
    "    final_dir = re.sub('preprocessed', 'final', directory)\n",
    "    if not os.path.isdir(final_dir):\n",
    "        os.mkdir(final_dir)\n",
    "    #compute mean sigmas\n",
    "    mean_sigmas = {res:compute_mean_sigma(resolution=res) for res in [20,30]}\n",
    "    #pick relevant sigma according to directory name\n",
    "    sigma = mean_sigmas[approximate_diameter(directory)]\n",
    "    \n",
    "    files = [directory + file for file in os.listdir(directory) if 'tomo' in file]\n",
    "    \n",
    "    for i in trange(len(files)):\n",
    "        file_name = files[i]\n",
    "        poly_file = re.sub('preprocessed', 'raw', file_name)\n",
    "        poly_file = re.sub('.csv', '.poly', poly_file)\n",
    "        final_file = re.sub('preprocessed', 'final', file_name)\n",
    "        interval, cns, pc = cns_pc_from_file(file_name)\n",
    "        mu = mu_from_gauss(interval, pc)\n",
    "        Z = Z_from_cns(interval, cns, mu, sigma)\n",
    "        #print('Z=',Z)\n",
    "        compute_local_contacts(file_name, Z)\n",
    "        compute_nearest_neighbours(file_name, poly_file)\n",
    "        \n",
    "        df = pd.read_csv(file_name, index_col = 0)\n",
    "        df['diameter'] = mu\n",
    "        df.to_csv(final_file)"
   ]
  },
  {
   "cell_type": "code",
   "execution_count": 7,
   "id": "cea1e40e-21b3-4a3c-8f29-be144ef1bb17",
   "metadata": {
    "tags": []
   },
   "outputs": [
    {
     "name": "stderr",
     "output_type": "stream",
     "text": [
      "100%|█████████████████████████████████████████| 265/265 [02:47<00:00,  1.58it/s]\n",
      "100%|███████████████████████████████████████████| 78/78 [00:49<00:00,  1.57it/s]\n",
      "100%|███████████████████████████████████████████| 78/78 [00:49<00:00,  1.58it/s]\n",
      "100%|█████████████████████████████████████████| 308/308 [02:43<00:00,  1.88it/s]\n"
     ]
    }
   ],
   "source": [
    "#directories  = ['../Data/preprocessed/VF_008_analysis_ref_centroid/']\n",
    "for directory in directories:\n",
    "    compute_sigmas(directory)"
   ]
  },
  {
   "cell_type": "code",
   "execution_count": 5,
   "id": "4bc01fd2-b14d-48a8-8f34-53eabe634c9c",
   "metadata": {
    "tags": []
   },
   "outputs": [
    {
     "name": "stderr",
     "output_type": "stream",
     "text": [
      "100%|█████████████████████████████████████████| 265/265 [15:46<00:00,  3.57s/it]\n",
      "100%|███████████████████████████████████████████| 78/78 [04:43<00:00,  3.63s/it]\n",
      "100%|███████████████████████████████████████████| 78/78 [04:33<00:00,  3.51s/it]\n",
      "100%|█████████████████████████████████████████| 308/308 [15:12<00:00,  2.96s/it]\n"
     ]
    }
   ],
   "source": [
    "for directory in directories:\n",
    "    contacts_and_neighbours(directory)"
   ]
  },
  {
   "cell_type": "code",
   "execution_count": 5,
   "id": "642102ee-3495-4839-be30-8929417a66af",
   "metadata": {},
   "outputs": [
    {
     "name": "stdout",
     "output_type": "stream",
     "text": [
      "CPU times: user 536 ms, sys: 9.19 ms, total: 545 ms\n",
      "Wall time: 547 ms\n"
     ]
    },
    {
     "ename": "NameError",
     "evalue": "name 'pc' is not defined",
     "output_type": "error",
     "traceback": [
      "\u001b[0;31m---------------------------------------------------------------------------\u001b[0m",
      "\u001b[0;31mNameError\u001b[0m                                 Traceback (most recent call last)",
      "\u001b[0;32m/tmp/ipykernel_5695/2090125404.py\u001b[0m in \u001b[0;36m<module>\u001b[0;34m\u001b[0m\n\u001b[1;32m     16\u001b[0m \u001b[0mcns_av\u001b[0m \u001b[0;34m=\u001b[0m \u001b[0mdists\u001b[0m\u001b[0;34m/\u001b[0m\u001b[0mxyz\u001b[0m\u001b[0;34m.\u001b[0m\u001b[0mshape\u001b[0m\u001b[0;34m[\u001b[0m\u001b[0;36m0\u001b[0m\u001b[0;34m]\u001b[0m\u001b[0;34m-\u001b[0m\u001b[0;36m1\u001b[0m\u001b[0;34m\u001b[0m\u001b[0;34m\u001b[0m\u001b[0m\n\u001b[1;32m     17\u001b[0m \u001b[0mpc_av\u001b[0m \u001b[0;34m=\u001b[0m \u001b[0mnp\u001b[0m\u001b[0;34m.\u001b[0m\u001b[0mdiff\u001b[0m\u001b[0;34m(\u001b[0m\u001b[0mdists\u001b[0m\u001b[0;34m,\u001b[0m \u001b[0mprepend\u001b[0m\u001b[0;34m=\u001b[0m\u001b[0mdists\u001b[0m\u001b[0;34m[\u001b[0m\u001b[0;36m0\u001b[0m\u001b[0;34m]\u001b[0m\u001b[0;34m)\u001b[0m\u001b[0;34m/\u001b[0m\u001b[0;34m(\u001b[0m\u001b[0;36m4\u001b[0m\u001b[0;34m*\u001b[0m\u001b[0mnp\u001b[0m\u001b[0;34m.\u001b[0m\u001b[0mpi\u001b[0m\u001b[0;34m*\u001b[0m\u001b[0minterval\u001b[0m\u001b[0;34m**\u001b[0m\u001b[0;36m2\u001b[0m\u001b[0;34m*\u001b[0m\u001b[0mdr\u001b[0m\u001b[0;34m)\u001b[0m\u001b[0;34m\u001b[0m\u001b[0;34m\u001b[0m\u001b[0m\n\u001b[0;32m---> 18\u001b[0;31m \u001b[0mmu\u001b[0m \u001b[0;34m=\u001b[0m \u001b[0mmu_from_gauss\u001b[0m\u001b[0;34m(\u001b[0m\u001b[0minterval\u001b[0m\u001b[0;34m,\u001b[0m \u001b[0mpc\u001b[0m\u001b[0;34m)\u001b[0m\u001b[0;34m\u001b[0m\u001b[0;34m\u001b[0m\u001b[0m\n\u001b[0m\u001b[1;32m     19\u001b[0m \u001b[0msigma\u001b[0m \u001b[0;34m=\u001b[0m \u001b[0msigma_from_cns\u001b[0m\u001b[0;34m(\u001b[0m\u001b[0minterval\u001b[0m\u001b[0;34m,\u001b[0m \u001b[0mcns\u001b[0m\u001b[0;34m,\u001b[0m \u001b[0mmu\u001b[0m\u001b[0;34m)\u001b[0m\u001b[0;34m\u001b[0m\u001b[0;34m\u001b[0m\u001b[0m\n\u001b[1;32m     20\u001b[0m \u001b[0;32mimport\u001b[0m \u001b[0mscipy\u001b[0m\u001b[0;34m\u001b[0m\u001b[0;34m\u001b[0m\u001b[0m\n",
      "\u001b[0;31mNameError\u001b[0m: name 'pc' is not defined"
     ]
    }
   ],
   "source": [
    "file_name = '../Data/preprocessed/VF_006_analysis/tomo_gray_SUB_006_003.csv'\n",
    "\n",
    "df = pd.read_csv(file_name, index_col = 0)\n",
    "rho = df.shape[0]/df.w000.sum()\n",
    "xyz = df[['x','y','z']].to_numpy()\n",
    "\n",
    "#compute approximate diameter (depends on the resolution of the measurement)\n",
    "d_appr = approximate_diameter(file_name)\n",
    "\n",
    "#compute data\n",
    "from scipy.spatial import KDTree\n",
    "dr = 0.005\n",
    "interval = np.arange(d_appr-1, d_appr+2, dr)\n",
    "tree = KDTree(xyz)\n",
    "%time dists = tree.count_neighbors(tree, interval)\n",
    "cns_av = dists/xyz.shape[0]-1\n",
    "pc_av = np.diff(dists, prepend=dists[0])/(4*np.pi*interval**2*dr)\n",
    "mu = mu_from_gauss(interval, pc)\n",
    "sigma = sigma_from_cns(interval, cns, mu)\n",
    "import scipy\n",
    "scipy.__version__\n",
    "\n",
    "#!pip install scipy==1.7.0"
   ]
  },
  {
   "cell_type": "code",
   "execution_count": 1,
   "id": "e436a26c-46a3-4057-8717-1e3c477c594e",
   "metadata": {},
   "outputs": [
    {
     "name": "stderr",
     "output_type": "stream",
     "text": [
      "2021-07-12 18:39:37.140615: I tensorflow/stream_executor/platform/default/dso_loader.cc:53] Successfully opened dynamic library libcudart.so.11.0\n"
     ]
    },
    {
     "name": "stdout",
     "output_type": "stream",
     "text": [
      "Num GPUs Available:  0\n"
     ]
    },
    {
     "name": "stderr",
     "output_type": "stream",
     "text": [
      "2021-07-12 18:39:38.511865: I tensorflow/stream_executor/platform/default/dso_loader.cc:53] Successfully opened dynamic library libcuda.so.1\n",
      "2021-07-12 18:39:38.578459: E tensorflow/stream_executor/cuda/cuda_driver.cc:328] failed call to cuInit: CUDA_ERROR_COMPAT_NOT_SUPPORTED_ON_DEVICE: forward compatibility was attempted on non supported HW\n",
      "2021-07-12 18:39:38.578538: I tensorflow/stream_executor/cuda/cuda_diagnostics.cc:169] retrieving CUDA diagnostic information for host: ansgar-HP\n",
      "2021-07-12 18:39:38.578550: I tensorflow/stream_executor/cuda/cuda_diagnostics.cc:176] hostname: ansgar-HP\n",
      "2021-07-12 18:39:38.579008: I tensorflow/stream_executor/cuda/cuda_diagnostics.cc:200] libcuda reported version is: 470.42.1\n",
      "2021-07-12 18:39:38.579065: I tensorflow/stream_executor/cuda/cuda_diagnostics.cc:204] kernel reported version is: 460.80.0\n",
      "2021-07-12 18:39:38.579074: E tensorflow/stream_executor/cuda/cuda_diagnostics.cc:313] kernel version 460.80.0 does not match DSO version 470.42.1 -- cannot find working devices in this configuration\n"
     ]
    }
   ],
   "source": [
    "import tensorflow as tf\n",
    "print(\"Num GPUs Available: \", len(tf.config.list_physical_devices('GPU')))\n"
   ]
  },
  {
   "cell_type": "code",
   "execution_count": 15,
   "id": "56e63006-7ffb-4887-ba8a-8075a593254a",
   "metadata": {},
   "outputs": [
    {
     "data": {
      "text/plain": [
       "[]"
      ]
     },
     "execution_count": 15,
     "metadata": {},
     "output_type": "execute_result"
    }
   ],
   "source": []
  },
  {
   "cell_type": "code",
   "execution_count": null,
   "id": "7e7e7282-8452-46d0-bace-1c17af4424a1",
   "metadata": {},
   "outputs": [],
   "source": []
  }
 ],
 "metadata": {
  "kernelspec": {
   "display_name": "Python 3 (ipykernel)",
   "language": "python",
   "name": "python3"
  },
  "language_info": {
   "codemirror_mode": {
    "name": "ipython",
    "version": 3
   },
   "file_extension": ".py",
   "mimetype": "text/x-python",
   "name": "python",
   "nbconvert_exporter": "python",
   "pygments_lexer": "ipython3",
   "version": "3.8.10"
  }
 },
 "nbformat": 4,
 "nbformat_minor": 5
}
