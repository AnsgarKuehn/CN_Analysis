{
 "cells": [
  {
   "cell_type": "code",
   "execution_count": 1,
   "id": "7ddda619-b7da-4eed-a1b1-e1cd2a7df350",
   "metadata": {},
   "outputs": [],
   "source": [
    "import numpy as np\n",
    "import pandas as pd\n",
    "import matplotlib.pyplot as plt\n",
    "import os\n",
    "from tqdm import trange\n",
    "import re\n",
    "from lmfit.models import GaussianModel, StepModel, Model\n",
    "from cn_tools.cns_fit import cns_pc_from_file\n",
    "from cn_tools.cns_fit import mu_from_gauss\n",
    "from cn_tools.cns_fit import sigma_from_cns\n",
    "from cn_tools.cns_fit import Z_from_cns\n",
    "from cn_tools.cns_fit import compute_local_contacts\n",
    "from cn_tools.cns_fit import compute_nearest_neighbours\n",
    "from cn_tools.cns_fit import compute_mean_sigma\n",
    "from cn_tools.cns_fit import approximate_diameter\n",
    "from cn_tools.data_processing import cut_df"
   ]
  },
  {
   "cell_type": "code",
   "execution_count": 2,
   "id": "1af5be4e-32b2-4db3-88b0-ab06884b76b2",
   "metadata": {},
   "outputs": [],
   "source": [
    "directories = ['../Data/preprocessed/VF_005_analysis/', '../Data/preprocessed/VF_006_analysis/',\n",
    "               '../Data/preprocessed/VF_007_analysis/', '../Data/preprocessed/VF_008_analysis/']"
   ]
  },
  {
   "cell_type": "code",
   "execution_count": 3,
   "id": "89a3b7a5-ecd6-442f-ba22-25f6a4966d30",
   "metadata": {},
   "outputs": [],
   "source": [
    "def compute_sigmas(directory):\n",
    "    '''Iterates through a raw directory and saves all processed csv files in another directory called preprocessed'''\n",
    "    \n",
    "    #define save directory\n",
    "    save_file = '../Data/preprocessed/sigma.csv'\n",
    "    df_sigma = pd.read_csv(save_file, index_col=0)\n",
    "        \n",
    "    #create list of all minkowski file folders to evaluate\n",
    "    files = [directory + file for file in os.listdir(directory) if 'tomo' in file]\n",
    "    \n",
    "    #for folder in folders:\n",
    "    for i in trange(len(files)):\n",
    "        \n",
    "        file_name = files[i]\n",
    "        #index has the form 'XXX_YYY'\n",
    "        index = file_name[-11:-4]\n",
    "        interval, cns, pc = cns_pc_from_file(file_name)\n",
    "        mu = mu_from_gauss(interval, pc)\n",
    "        sigma = sigma_from_cns(interval, cns, mu)\n",
    "        df_sigma.loc[index, 'sigma'] = sigma\n",
    "        \n",
    "    df_sigma.to_csv(save_file)"
   ]
  },
  {
   "cell_type": "code",
   "execution_count": 8,
   "id": "b50148db-ef20-49ee-8eea-2ff5568102b8",
   "metadata": {},
   "outputs": [],
   "source": [
    "def contacts_and_neighbours(directory):\n",
    "    #final directory\n",
    "    final_dir = re.sub('preprocessed', 'final', directory)\n",
    "    if not os.path.isdir(final_dir):\n",
    "        os.mkdir(final_dir)\n",
    "    #compute mean sigmas\n",
    "    mean_sigmas = {res:compute_mean_sigma(resolution=res) for res in [20,30]}\n",
    "    #pick relevant sigma according to directory name\n",
    "    sigma = mean_sigmas[approximate_diameter(directory)]\n",
    "    \n",
    "    files = [directory + file for file in os.listdir(directory) if 'tomo' in file]\n",
    "    \n",
    "    for i in trange(len(files)):\n",
    "        file_name = files[i]\n",
    "        poly_file = re.sub('preprocessed', 'raw', file_name)\n",
    "        poly_file = re.sub('.csv', '.poly', poly_file)\n",
    "        final_file = re.sub('preprocessed', 'final', file_name)\n",
    "        interval, cns, pc = cns_pc_from_file(file_name)\n",
    "        mu = mu_from_gauss(interval, pc)\n",
    "        Z = Z_from_cns(interval, cns, mu, sigma)\n",
    "        compute_local_contacts(file_name, Z)\n",
    "        compute_nearest_neighbours(file_name, poly_file)\n",
    "        \n",
    "        df = pd.read_csv(file_name, index_col = 0)\n",
    "        df = cut_df(df)\n",
    "        df.to_csv(final_file)"
   ]
  },
  {
   "cell_type": "code",
   "execution_count": 4,
   "id": "cea1e40e-21b3-4a3c-8f29-be144ef1bb17",
   "metadata": {},
   "outputs": [
    {
     "name": "stderr",
     "output_type": "stream",
     "text": [
      "100%|██████████| 265/265 [02:50<00:00,  1.55it/s]\n",
      "100%|██████████| 78/78 [00:51<00:00,  1.52it/s]\n",
      "100%|██████████| 78/78 [00:49<00:00,  1.59it/s]\n",
      "100%|██████████| 308/308 [02:39<00:00,  1.93it/s]\n"
     ]
    }
   ],
   "source": [
    "#directories  = ['../Data/preprocessed/VF_008_analysis_ref_centroid/']\n",
    "for directory in directories:\n",
    "    compute_sigmas(directory)"
   ]
  },
  {
   "cell_type": "code",
   "execution_count": 9,
   "id": "4bc01fd2-b14d-48a8-8f34-53eabe634c9c",
   "metadata": {
    "tags": []
   },
   "outputs": [
    {
     "name": "stderr",
     "output_type": "stream",
     "text": [
      "100%|██████████| 265/265 [14:25<00:00,  3.27s/it]\n",
      "100%|██████████| 78/78 [04:18<00:00,  3.32s/it]\n",
      "100%|██████████| 78/78 [04:07<00:00,  3.17s/it]\n",
      "100%|██████████| 308/308 [14:32<00:00,  2.83s/it]\n"
     ]
    }
   ],
   "source": [
    "for directory in directories:\n",
    "    contacts_and_neighbours(directory)"
   ]
  },
  {
   "cell_type": "code",
   "execution_count": null,
   "id": "3c718517-0503-48e2-9683-b6c6ddacbef0",
   "metadata": {},
   "outputs": [],
   "source": []
  }
 ],
 "metadata": {
  "kernelspec": {
   "display_name": "Python 3 (ipykernel)",
   "language": "python",
   "name": "python3"
  },
  "language_info": {
   "codemirror_mode": {
    "name": "ipython",
    "version": 3
   },
   "file_extension": ".py",
   "mimetype": "text/x-python",
   "name": "python",
   "nbconvert_exporter": "python",
   "pygments_lexer": "ipython3",
   "version": "3.8.10"
  }
 },
 "nbformat": 4,
 "nbformat_minor": 5
}
