{
 "cells": [
  {
   "cell_type": "code",
   "execution_count": 15,
   "metadata": {},
   "outputs": [],
   "source": [
    "import pandas as pd\n",
    "import numpy as np\n",
    "import re\n",
    "from cn_tools.data_processing import process_measurement, cut_df\n",
    "import os"
   ]
  },
  {
   "cell_type": "code",
   "execution_count": 68,
   "metadata": {},
   "outputs": [],
   "source": [
    "directory = '../Data/raw/VF_008_analysis_ref_centroid/'\n",
    "def directory_eval(directory):\n",
    "    '''Iterates through a raw directory and saves all processed csv files in another directory called preprocessed'''\n",
    "    \n",
    "    #define save directory\n",
    "    save_directory = re.sub('raw', 'preprocessed', directory)\n",
    "    #check if save directory already exists and create it in case \n",
    "    if not os.path.isdir(save_directory):\n",
    "        os.makedirs(save_directory)\n",
    "        \n",
    "    #create list of all minkowski file folders to evaluate\n",
    "    folders = [directory + folder + '/' for folder in os.listdir(directory) if '_mink_val' in folder]\n",
    "    for folder in folders:\n",
    "        \n",
    "        #define name of csv the data is going to be saved to\n",
    "        save_file = re.sub('raw', 'preprocessed', folder)\n",
    "        save_file = re.sub('_mink_val/', '.csv', save_file)\n",
    "        \n",
    "        #check if file exists already, of not, process and save the data\n",
    "        if not os.path.isfile(save_file):\n",
    "            xyz_file = re.sub('_mink_val/', '.xyz', folder)\n",
    "            df = process_measurement(path = folder, xyz_path = xyz_file)\n",
    "            df = cut_df(df, r_th=30, z_th=50)\n",
    "            df.to_csv(save_file)\n",
    "            \n",
    "    print(f'Saved processed csv files to {save_directory}')"
   ]
  },
  {
   "cell_type": "code",
   "execution_count": 69,
   "metadata": {},
   "outputs": [
    {
     "name": "stdout",
     "output_type": "stream",
     "text": [
      "Saved processed csv files to ../Data/preprocessed/VF_008_analysis_ref_centroid/\n"
     ]
    }
   ],
   "source": [
    "directory_eval(directory)"
   ]
  }
 ],
 "metadata": {
  "kernelspec": {
   "display_name": "Python 3",
   "language": "python",
   "name": "python3"
  },
  "language_info": {
   "codemirror_mode": {
    "name": "ipython",
    "version": 3
   },
   "file_extension": ".py",
   "mimetype": "text/x-python",
   "name": "python",
   "nbconvert_exporter": "python",
   "pygments_lexer": "ipython3",
   "version": "3.8.5"
  }
 },
 "nbformat": 4,
 "nbformat_minor": 4
}
