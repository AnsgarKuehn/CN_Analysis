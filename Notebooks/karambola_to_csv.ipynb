{
 "cells": [
  {
   "cell_type": "code",
   "execution_count": 1,
   "metadata": {},
   "outputs": [],
   "source": [
    "import pandas as pd\n",
    "import numpy as np\n",
    "import re\n",
    "from cn_tools.data_processing import process_measurement\n",
    "import os\n",
    "from tqdm import trange"
   ]
  },
  {
   "cell_type": "code",
   "execution_count": 2,
   "metadata": {},
   "outputs": [],
   "source": [
    "directory = '../Data/raw/VF_008_analysis_ref_centroid/'\n",
    "def directory_eval(directory):\n",
    "    '''Iterates through a raw directory and saves all processed csv files in another directory called preprocessed'''\n",
    "    \n",
    "    #define save directory\n",
    "    save_directory = re.sub('raw', 'preprocessed', directory)\n",
    "    #check if save directory already exists and create it in case \n",
    "    if not os.path.isdir(save_directory):\n",
    "        os.makedirs(save_directory)\n",
    "        \n",
    "    #create list of all minkowski file folders to evaluate\n",
    "    folders = [directory + folder + '/' for folder in os.listdir(directory) if '_mink_val' in folder]\n",
    "    \n",
    "    #for folder in folders:\n",
    "    for i in trange(len(folders)):\n",
    "        \n",
    "        folder = folders[i]\n",
    "        \n",
    "        #define name of csv the data is going to be saved to\n",
    "        save_file = re.sub('raw', 'preprocessed', folder)\n",
    "        save_file = re.sub('_mink_val/', '.csv', save_file)\n",
    "        \n",
    "        #check if file exists already, of not, process and save the data\n",
    "        #if not os.path.isfile(save_file):\n",
    "        xyz_file = re.sub('_mink_val/', '.xyz', folder)\n",
    "        df = process_measurement(path = folder, xyz_path = xyz_file)\n",
    "        \n",
    "        df.to_csv(save_file)\n",
    "\n",
    "    print(f'Saved processed csv files to {save_directory}')"
   ]
  },
  {
   "cell_type": "code",
   "execution_count": 3,
   "metadata": {},
   "outputs": [
    {
     "name": "stderr",
     "output_type": "stream",
     "text": [
      "100%|█████████████████████████████████████████| 265/265 [09:09<00:00,  2.07s/it]\n"
     ]
    },
    {
     "name": "stdout",
     "output_type": "stream",
     "text": [
      "Saved processed csv files to ../Data/preprocessed/VF_005_analysis/\n"
     ]
    },
    {
     "name": "stderr",
     "output_type": "stream",
     "text": [
      "100%|███████████████████████████████████████████| 78/78 [02:36<00:00,  2.01s/it]\n"
     ]
    },
    {
     "name": "stdout",
     "output_type": "stream",
     "text": [
      "Saved processed csv files to ../Data/preprocessed/VF_006_analysis/\n"
     ]
    },
    {
     "name": "stderr",
     "output_type": "stream",
     "text": [
      "100%|███████████████████████████████████████████| 78/78 [02:33<00:00,  1.97s/it]\n"
     ]
    },
    {
     "name": "stdout",
     "output_type": "stream",
     "text": [
      "Saved processed csv files to ../Data/preprocessed/VF_007_analysis/\n"
     ]
    },
    {
     "name": "stderr",
     "output_type": "stream",
     "text": [
      "100%|█████████████████████████████████████████| 308/308 [08:59<00:00,  1.75s/it]"
     ]
    },
    {
     "name": "stdout",
     "output_type": "stream",
     "text": [
      "Saved processed csv files to ../Data/preprocessed/VF_008_analysis/\n"
     ]
    },
    {
     "name": "stderr",
     "output_type": "stream",
     "text": [
      "\n"
     ]
    }
   ],
   "source": [
    "directories = ['../Data/raw/VF_005_analysis/', '../Data/raw/VF_006_analysis/',\n",
    "               '../Data/raw/VF_007_analysis/', '../Data/raw/VF_008_analysis/']\n",
    "for directory in directories:\n",
    "    directory_eval(directory)"
   ]
  },
  {
   "cell_type": "code",
   "execution_count": null,
   "metadata": {},
   "outputs": [],
   "source": []
  }
 ],
 "metadata": {
  "kernelspec": {
   "display_name": "Python 3 (ipykernel)",
   "language": "python",
   "name": "python3"
  },
  "language_info": {
   "codemirror_mode": {
    "name": "ipython",
    "version": 3
   },
   "file_extension": ".py",
   "mimetype": "text/x-python",
   "name": "python",
   "nbconvert_exporter": "python",
   "pygments_lexer": "ipython3",
   "version": "3.8.10"
  }
 },
 "nbformat": 4,
 "nbformat_minor": 4
}
